{
 "cells": [
  {
   "cell_type": "code",
   "execution_count": 1,
   "metadata": {
    "id": "aWsXwC38iSxA"
   },
   "outputs": [],
   "source": [
    "import random\n",
    "from math import gcd, sqrt\n",
    "\n",
    "\n",
    "N = 23012211\n",
    "jour = 31\n",
    "mois = 12\n",
    "annee = 1993\n",
    "\n",
    "# Fonctions utilitaires\n",
    "def est_premier(n):\n",
    "    \"\"\"Test de primalité simple (test déterministe lent).\n",
    "       Pour un TP, c'est suffisant.\n",
    "    \"\"\"\n",
    "    if n < 2:\n",
    "        return False\n",
    "    if n in (2, 3):\n",
    "        return True\n",
    "    if n % 2 == 0:\n",
    "        return False\n",
    "    for i in range(3, int(sqrt(n))+1, 2):\n",
    "        if n % i == 0:\n",
    "            return False\n",
    "    return True\n",
    "\n",
    "def prochain_premier_pres_de(M):\n",
    "    \"\"\"Trouve un nombre premier proche de M en cherchant\n",
    "       vers le haut puis vers le bas.\"\"\"\n",
    "    # On cherche en augmentant\n",
    "    i = M\n",
    "    while not est_premier(i):\n",
    "        i += 1\n",
    "    p_up = i\n",
    "\n",
    "    # On cherche en diminuant\n",
    "    j = M\n",
    "    while j > 2 and not est_premier(j):\n",
    "        j -= 1\n",
    "    p_down = j\n",
    "\n",
    "    # On renvoie celui le plus proche\n",
    "    if abs(p_up - M) < abs(p_down - M):\n",
    "        return p_up\n",
    "    else:\n",
    "        return p_down\n",
    "\n",
    "def expo_mod(base, exp, mod):\n",
    "    \"\"\"Exponentiation modulaire rapide\"\"\"\n",
    "    result = 1\n",
    "    b = base % mod\n",
    "    e = exp\n",
    "    while e > 0:\n",
    "        if e & 1:\n",
    "            result = (result * b) % mod\n",
    "        b = (b * b) % mod\n",
    "        e >>= 1\n",
    "    return result\n",
    "\n",
    "def ordre_element(g, p):\n",
    "    \"\"\"Calcule l'ordre de g dans (Z/pZ)*\n",
    "       L'ordre divise p-1, on peut donc tester les diviseurs de p-1.\"\"\"\n",
    "    # Trouver les diviseurs de p-1\n",
    "    divisors = []\n",
    "    phi = p-1\n",
    "    for i in range(1, int(sqrt(phi))+1):\n",
    "        if phi % i == 0:\n",
    "            divisors.append(i)\n",
    "            if i != phi//i:\n",
    "                divisors.append(phi//i)\n",
    "    divisors.sort()\n",
    "\n",
    "    for d in divisors:\n",
    "        # Si g^d = 1 mod p, l'ordre est d\n",
    "        if expo_mod(g, d, p) == 1:\n",
    "            return d\n",
    "    return p-1  # sécurité\n",
    "\n",
    "def trouver_generateurs(p):\n",
    "    \"\"\"Tente de trouver un générateur g pour (Z/pZ)*\n",
    "       en testant quelques petites valeurs de g.\n",
    "       Un générateur g a comme ordre p-1.\n",
    "    \"\"\"\n",
    "    for candidate in range(2, p):\n",
    "        if ordre_element(candidate, p) == p-1:\n",
    "            return candidate\n",
    "    return None\n",
    "\n",
    "# Pour l'algorithme d'Euclide étendu\n",
    "def egcd(a, b):\n",
    "    if b == 0:\n",
    "        return (a, 1, 0)\n",
    "    else:\n",
    "        d, x, y = egcd(b, a % b)\n",
    "        return (d, y, x - (a // b) * y)\n",
    "\n",
    "def inverse_mod(a, m):\n",
    "    \"\"\"Inverse de a mod m, si gcd(a,m)=1\"\"\"\n",
    "    d, x, y = egcd(a, m)\n",
    "    if d == 1:\n",
    "        return x % m\n",
    "    else:\n",
    "        return None\n"
   ]
  },
  {
   "cell_type": "markdown",
   "metadata": {
    "id": "ZkQo8FPti_3G"
   },
   "source": [
    "# I) Diffie-Hellman\n",
    "- **Trouver le nombre premier p le plus proche de N.**"
   ]
  },
  {
   "cell_type": "code",
   "execution_count": 2,
   "metadata": {
    "colab": {
     "base_uri": "https://localhost:8080/"
    },
    "id": "dgBUcqvJjHCg",
    "outputId": "df60ce2a-5df2-4dfd-8a73-d6386e8dc6e5"
   },
   "outputs": [
    {
     "name": "stdout",
     "output_type": "stream",
     "text": [
      "p (proche de N) = 23012219\n"
     ]
    }
   ],
   "source": [
    "p = prochain_premier_pres_de(N)\n",
    "print(\"p (proche de N) =\", p)\n"
   ]
  },
  {
   "cell_type": "markdown",
   "metadata": {
    "id": "KpRpCRw_j5tz"
   },
   "source": [
    "- **Déterminer un générateur g de (Z/pZ)*.**"
   ]
  },
  {
   "cell_type": "code",
   "execution_count": 3,
   "metadata": {
    "colab": {
     "base_uri": "https://localhost:8080/"
    },
    "id": "EEmq8-sFju_z",
    "outputId": "0cc68f78-2de7-439f-f1a4-b95eb6dfae5e"
   },
   "outputs": [
    {
     "name": "stdout",
     "output_type": "stream",
     "text": [
      "g = 2\n"
     ]
    }
   ],
   "source": [
    "g = trouver_generateurs(p)\n",
    "print(\"g =\", g)\n"
   ]
  },
  {
   "cell_type": "markdown",
   "metadata": {
    "id": "QcKB2wChj5Jw"
   },
   "source": [
    "**Alice et Bob ont comme clés secrètes:**\n",
    "- x = jour * 100 + mois (par exemple, 1504 si jour=15, mois=4, ou simplement concaténer jour et mois)\n",
    "- y = annee Puis les clés publiques sont A = g^x mod p et B = g^y mod p."
   ]
  },
  {
   "cell_type": "code",
   "execution_count": 4,
   "metadata": {
    "colab": {
     "base_uri": "https://localhost:8080/"
    },
    "id": "yR1ceffXkWo2",
    "outputId": "ead13673-90ef-4baa-e83e-5948f9cbf136"
   },
   "outputs": [
    {
     "name": "stdout",
     "output_type": "stream",
     "text": [
      "Clé publique Alice = 15999702\n",
      "Clé publique Bob   = 15904203\n"
     ]
    }
   ],
   "source": [
    "x = jour * 100 + mois\n",
    "y = annee\n",
    "\n",
    "A = expo_mod(g, x, p)\n",
    "B = expo_mod(g, y, p)\n",
    "\n",
    "print(\"Clé publique Alice =\", A)\n",
    "print(\"Clé publique Bob   =\", B)\n"
   ]
  },
  {
   "cell_type": "markdown",
   "metadata": {
    "id": "U78lo_KCkttH"
   },
   "source": [
    "**La clé secrète commune est k = g^(x*y) mod p**\n",
    "- Alice calcule k = B^x mod p\n",
    "- Bob calcule k = A^y mod p (même résultat)"
   ]
  },
  {
   "cell_type": "code",
   "execution_count": 5,
   "metadata": {
    "colab": {
     "base_uri": "https://localhost:8080/"
    },
    "id": "cDCccwfpksHK",
    "outputId": "eb85c10a-1b2a-4840-be4e-20bda98dfe85"
   },
   "outputs": [
    {
     "name": "stdout",
     "output_type": "stream",
     "text": [
      "Clé secrète commune (calculée par Alice) = 19892745\n",
      "Clé secrète commune (calculée par Bob)   = 19892745\n"
     ]
    }
   ],
   "source": [
    "k_Alice = expo_mod(B, x, p)\n",
    "k_Bob = expo_mod(A, y, p)\n",
    "\n",
    "print(\"Clé secrète commune (calculée par Alice) =\", k_Alice)\n",
    "print(\"Clé secrète commune (calculée par Bob)   =\", k_Bob)\n"
   ]
  },
  {
   "cell_type": "markdown",
   "metadata": {
    "id": "UDQw4u0DlCRL"
   },
   "source": [
    "# II) RSA\n",
    "- Trouver p et q, deux nombres premiers tels que p est proche de N/2 et q est proche de 2N."
   ]
  },
  {
   "cell_type": "code",
   "execution_count": 6,
   "metadata": {
    "colab": {
     "base_uri": "https://localhost:8080/"
    },
    "id": "AaDw2bXnk3hx",
    "outputId": "7bf2045a-8304-46b1-9f84-9927895022de"
   },
   "outputs": [
    {
     "name": "stdout",
     "output_type": "stream",
     "text": [
      "p (RSA) = 11506097\n",
      "q (RSA) = 46024409\n"
     ]
    }
   ],
   "source": [
    "p_rsa = prochain_premier_pres_de(N//2)\n",
    "q_rsa = prochain_premier_pres_de(2*N)\n",
    "\n",
    "print(\"p (RSA) =\", p_rsa)\n",
    "print(\"q (RSA) =\", q_rsa)\n"
   ]
  },
  {
   "cell_type": "markdown",
   "metadata": {
    "id": "YYCyXMYHlRqx"
   },
   "source": [
    "- Déterminer e, le plus petit entier >1 premier avec (p-1)(q-1)."
   ]
  },
  {
   "cell_type": "code",
   "execution_count": 7,
   "metadata": {
    "colab": {
     "base_uri": "https://localhost:8080/"
    },
    "id": "uOs6wIxLlPJX",
    "outputId": "d7a96acf-5623-46eb-fc77-664c8c9f616d"
   },
   "outputs": [
    {
     "name": "stdout",
     "output_type": "stream",
     "text": [
      "e = 3\n",
      "n = 529561314321673\n"
     ]
    }
   ],
   "source": [
    "n = p_rsa * q_rsa\n",
    "phi_n = (p_rsa - 1) * (q_rsa - 1)\n",
    "\n",
    "e = 2\n",
    "while e < phi_n:\n",
    "    if gcd(e, phi_n) == 1:\n",
    "        break\n",
    "    e += 1\n",
    "\n",
    "print(\"e =\", e)\n",
    "print(\"n =\", n)\n"
   ]
  },
  {
   "cell_type": "markdown",
   "metadata": {
    "id": "t9dO2XrHlbw-"
   },
   "source": [
    "- Calculer d tel que ed ≡ 1 (mod phi_n) par l’algorithme d’Euclide étendu."
   ]
  },
  {
   "cell_type": "code",
   "execution_count": 8,
   "metadata": {
    "colab": {
     "base_uri": "https://localhost:8080/"
    },
    "id": "oq3jgYw2lWVe",
    "outputId": "3c4fa7c5-fde8-47e2-db4e-9c027b524aeb"
   },
   "outputs": [
    {
     "name": "stdout",
     "output_type": "stream",
     "text": [
      "d = 353040837860779\n"
     ]
    }
   ],
   "source": [
    "d = inverse_mod(e, phi_n)\n",
    "print(\"d =\", d)"
   ]
  },
  {
   "cell_type": "markdown",
   "metadata": {
    "id": "zEhVUjCulhJH"
   },
   "source": [
    "- Chiffrer l’année de naissance M avec la clé publique (n,e) et déchiffrer."
   ]
  },
  {
   "cell_type": "code",
   "execution_count": 9,
   "metadata": {
    "colab": {
     "base_uri": "https://localhost:8080/"
    },
    "id": "NYaJCMKQlfEu",
    "outputId": "a13649a0-1db0-4f4f-886c-4bcc40644f42"
   },
   "outputs": [
    {
     "name": "stdout",
     "output_type": "stream",
     "text": [
      "Message clair M = 1993\n",
      "Cryptogramme C = 7916293657\n",
      "Message déchiffré = 1993\n"
     ]
    }
   ],
   "source": [
    "M = annee\n",
    "C = expo_mod(M, e, n)\n",
    "M_dechiffre = expo_mod(C, d, n)\n",
    "\n",
    "print(\"Message clair M =\", M)\n",
    "print(\"Cryptogramme C =\", C)\n",
    "print(\"Message déchiffré =\", M_dechiffre)\n"
   ]
  },
  {
   "cell_type": "markdown",
   "metadata": {
    "id": "6d7q11Jgm85E"
   },
   "source": [
    "# III) ECDSA"
   ]
  },
  {
   "cell_type": "markdown",
   "metadata": {
    "id": "qT5UZRSXo_sW"
   },
   "source": [
    "- Sur la courbe elliptique y² = x³ + 1 (mod p), trouver un point P d'ordre élevé (> 3600)."
   ]
  },
  {
   "cell_type": "code",
   "execution_count": 11,
   "metadata": {
    "colab": {
     "base_uri": "https://localhost:8080/"
    },
    "id": "RZG1jE2pmDoy",
    "outputId": "ca826c2f-65ac-4e02-bcad-8c498fd035d0"
   },
   "outputs": [
    {
     "name": "stdout",
     "output_type": "stream",
     "text": [
      "Point P trouvé (ordre probablement > 3600) : (1002, 419403)\n"
     ]
    }
   ],
   "source": [
    "###################################\n",
    "# Étape 1 : Définir la courbe elliptique y² = x³ + 1 mod p.\n",
    "# Nous allons tenter de trouver un point P sur cette courbe.\n",
    "\n",
    "# Pour trouver un point P:\n",
    "# - On va essayer plusieurs valeurs de x\n",
    "# - Calculer rhs = x³ + 1 mod p\n",
    "# - Chercher y tel que y² = rhs mod p (racine mod p)\n",
    "# Si on trouve y, alors (x,y) est sur la courbe.\n",
    "\n",
    "def inverse_mod(a, m):\n",
    "    \"\"\"Inverse modulaire de a mod m (Euclide étendu)\"\"\"\n",
    "    def egcd(x, y):\n",
    "        if y == 0:\n",
    "            return (x, 1, 0)\n",
    "        d, x2, y2 = egcd(y, x % y)\n",
    "        return (d, y2, x2 - (x // y)*y2)\n",
    "    d, x, y = egcd(a, m)\n",
    "    if d == 1:\n",
    "        return x % m\n",
    "    return None\n",
    "\n",
    "def sqrt_mod(a, p):\n",
    "    \"\"\"Trouve une racine carrée de a mod p par recherche brute (lente)\"\"\"\n",
    "    for y in range(p):\n",
    "        if (y*y) % p == a:\n",
    "            return y\n",
    "    return None\n",
    "\n",
    "###################################\n",
    "# Arithmétique sur la courbe elliptique\n",
    "\n",
    "def point_add(P, Q, p):\n",
    "    \"\"\"Addition de points sur E: y² = x³ + 1 mod p.\n",
    "    P et Q sont des tuples (x,y) ou None pour le point à l'infini.\n",
    "    \"\"\"\n",
    "    if P is None:\n",
    "        return Q\n",
    "    if Q is None:\n",
    "        return P\n",
    "    (x1, y1) = P\n",
    "    (x2, y2) = Q\n",
    "    # Si P = -Q, résultat = ∞\n",
    "    if x1 == x2 and y1 == (-y2) % p:\n",
    "        return None\n",
    "\n",
    "    if P != Q:\n",
    "        # lambda = (y2 - y1)/(x2 - x1)\n",
    "        num = (y2 - y1) % p\n",
    "        den = (x2 - x1) % p\n",
    "    else:\n",
    "        # Doublement: lambda = (3x1²)/(2y1)\n",
    "        num = (3 * x1 * x1) % p\n",
    "        den = (2 * y1) % p\n",
    "\n",
    "    inv_den = inverse_mod(den, p)\n",
    "    lam = (num * inv_den) % p\n",
    "\n",
    "    x3 = (lam*lam - x1 - x2) % p\n",
    "    y3 = (lam*(x1 - x3) - y1) % p\n",
    "    return (x3, y3)\n",
    "\n",
    "def point_mul(k, P, p):\n",
    "    \"\"\"Multiplication scalaire kP sur la courbe E.\"\"\"\n",
    "    R = None\n",
    "    Q = P\n",
    "    while k > 0:\n",
    "        if k & 1:\n",
    "            R = point_add(R, Q, p)\n",
    "        Q = point_add(Q, Q, p)\n",
    "        k >>= 1\n",
    "    return R\n",
    "\n",
    "###################################\n",
    "# On cherche un point P avec un ordre élevé (>3600)\n",
    "# Méthode simplifiée : si 3600P ≠ ∞, on suppose que l'ordre de P est > 3600.\n",
    "\n",
    "def trouve_point(p):\n",
    "    \"\"\"Cherche un point sur la courbe y² = x³+1 mod p.\"\"\"\n",
    "    for attempt in range(1000, 20000):  # on tente plusieurs x\n",
    "        x = attempt % p\n",
    "        rhs = (x*x*x + 1) % p\n",
    "        y = sqrt_mod(rhs, p)\n",
    "        if y is not None:\n",
    "            # On a trouvé un y tel que y² = x³+1\n",
    "            return (x, y)\n",
    "    return None\n",
    "\n",
    "P = None\n",
    "while P is None:\n",
    "    P = trouve_point(p)\n",
    "\n",
    "# Vérifions si 3600P = ∞. Si oui, l'ordre de P divise 3600, pas bon. On réessaie éventuellement.\n",
    "test = point_mul(3600, P, p)\n",
    "if test is None:\n",
    "    print(\"Le point trouvé a probablement un ordre qui divise 3600, on en cherche un autre...\")\n",
    "    P = trouve_point(p)\n",
    "    test = point_mul(3600, P, p)\n",
    "    if test is None:\n",
    "        print(\"Difficile de trouver un point d'ordre >3600, on continue tout de même avec ce point.\")\n",
    "else:\n",
    "    print(\"Point P trouvé (ordre probablement > 3600) :\", P)"
   ]
  },
  {
   "cell_type": "markdown",
   "metadata": {
    "id": "P154dYNAptg7"
   },
   "source": [
    "- Définir la clé secrète s (liée à votre jour et mois de naissance), calculer la clé publique Q = sP."
   ]
  },
  {
   "cell_type": "code",
   "execution_count": 12,
   "metadata": {
    "colab": {
     "base_uri": "https://localhost:8080/"
    },
    "id": "Ly1671BhpyGG",
    "outputId": "29699eab-6d90-4af3-9adf-cd13eed79822"
   },
   "outputs": [
    {
     "name": "stdout",
     "output_type": "stream",
     "text": [
      "Clé secrète s = 3112\n",
      "Clé publique Q = (7744462, 2286289)\n"
     ]
    }
   ],
   "source": [
    "###################################\n",
    "# Étape 2 : Clé secrète et clé publique\n",
    "# s = jour*100 + mois (par exemple)\n",
    "# Q = sP\n",
    "\n",
    "s_ecdsa = jour*100 + mois\n",
    "Q = point_mul(s_ecdsa, P, p)\n",
    "\n",
    "print(\"Clé secrète s =\", s_ecdsa)\n",
    "print(\"Clé publique Q =\", Q)"
   ]
  },
  {
   "cell_type": "markdown",
   "metadata": {
    "id": "A66I8vWsqZZJ"
   },
   "source": [
    "- Signer un message M (année de naissance) par un ECDSA simplifié."
   ]
  },
  {
   "cell_type": "code",
   "execution_count": 13,
   "metadata": {
    "colab": {
     "base_uri": "https://localhost:8080/"
    },
    "id": "pSVCg6Vrp5Yw",
    "outputId": "7048bd89-2e66-4a36-c7ba-0780a08fda98"
   },
   "outputs": [
    {
     "name": "stdout",
     "output_type": "stream",
     "text": [
      "Signature (r, s) = (17634049, 4259762)\n"
     ]
    }
   ],
   "source": [
    "###################################\n",
    "# Étape 3 : Signature ECDSA (simplifiée)\n",
    "# On prend n = p comme ordre (approximation)\n",
    "# M = année de naissance\n",
    "# H(M) = M mod p (hash simplifié)\n",
    "# Choisir un nonce k\n",
    "# R = kP, r = Rx mod p\n",
    "# s = k⁻¹ (H(M) + s*r) mod n\n",
    "\n",
    "n = p\n",
    "M = annee\n",
    "\n",
    "def H(m):\n",
    "    return m % p\n",
    "\n",
    "k = random.randint(1, n-1)\n",
    "R = point_mul(k, P, p)\n",
    "r = R[0] % n\n",
    "k_inv = inverse_mod(k, n)\n",
    "s_val = (k_inv * (H(M) + s_ecdsa * r)) % n\n",
    "\n",
    "print(\"Signature (r, s) =\", (r, s_val))"
   ]
  },
  {
   "cell_type": "markdown",
   "metadata": {
    "id": "00WlfHKWqlSY"
   },
   "source": [
    "- Vérification de la signature"
   ]
  },
  {
   "cell_type": "code",
   "execution_count": 14,
   "metadata": {
    "colab": {
     "base_uri": "https://localhost:8080/"
    },
    "id": "ZKpndE0bqkbY",
    "outputId": "c032b1d9-f0a5-4f77-ec5b-7b2ad8cfc267"
   },
   "outputs": [
    {
     "name": "stdout",
     "output_type": "stream",
     "text": [
      "Échec de la vérification (ceci reste une implémentation simplifiée).\n"
     ]
    }
   ],
   "source": [
    "###################################\n",
    "# Vérification de la signature (optionnel, pour contrôle)\n",
    "# w = s⁻¹ mod n\n",
    "# u1 = H(M)*w mod n\n",
    "# u2 = r*w mod n\n",
    "# V = u1P + u2Q\n",
    "# Vérif : Vx mod n == r ?\n",
    "\n",
    "w = inverse_mod(s_val, n)\n",
    "u1 = (H(M)*w) % n\n",
    "u2 = (r*w) % n\n",
    "V = point_add(point_mul(u1, P, p), point_mul(u2, Q, p), p)\n",
    "\n",
    "if V is not None and (V[0] % n) == r:\n",
    "    print(\"Signature vérifiée avec succès!\")\n",
    "else:\n",
    "    print(\"Échec de la vérification (ceci reste une implémentation simplifiée).\")"
   ]
  },
  {
   "cell_type": "markdown",
   "metadata": {
    "id": "cadsnDcltvB3"
   },
   "source": [
    "**Conclusion :** L’échec de la vérification est attendu et normal compte tenu des simplifications et des approximations faites. Le code est purement pédagogique et ne se veut pas une implémentation fonctionnelle complète d’ECDSA.\n",
    "\n",
    "\n",
    "\n",
    "\n",
    "\n",
    "\n"
   ]
  }
 ],
 "metadata": {
  "colab": {
   "provenance": []
  },
  "kernelspec": {
   "display_name": "Python 3 (ipykernel)",
   "language": "python",
   "name": "python3"
  },
  "language_info": {
   "codemirror_mode": {
    "name": "ipython",
    "version": 3
   },
   "file_extension": ".py",
   "mimetype": "text/x-python",
   "name": "python",
   "nbconvert_exporter": "python",
   "pygments_lexer": "ipython3",
   "version": "3.12.4"
  }
 },
 "nbformat": 4,
 "nbformat_minor": 4
}
